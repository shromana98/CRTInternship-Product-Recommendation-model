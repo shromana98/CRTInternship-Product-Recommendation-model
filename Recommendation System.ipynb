{
 "cells": [
  {
   "cell_type": "code",
   "execution_count": 1,
   "id": "177fce60",
   "metadata": {},
   "outputs": [],
   "source": [
    "import numpy as np\n",
    "import pandas as pd"
   ]
  },
  {
   "cell_type": "code",
   "execution_count": 2,
   "id": "6fafa84d",
   "metadata": {},
   "outputs": [],
   "source": [
    "#Import the data set\n",
    "df = pd.read_csv('ratings_Beauty.csv')\n"
   ]
  },
  {
   "cell_type": "code",
   "execution_count": 3,
   "id": "33f8d9ef",
   "metadata": {},
   "outputs": [],
   "source": [
    "df = df.drop('Timestamp', axis=1) #Dropping timestamp"
   ]
  },
  {
   "cell_type": "code",
   "execution_count": 4,
   "id": "81286ec8",
   "metadata": {},
   "outputs": [
    {
     "data": {
      "text/html": [
       "<div>\n",
       "<style scoped>\n",
       "    .dataframe tbody tr th:only-of-type {\n",
       "        vertical-align: middle;\n",
       "    }\n",
       "\n",
       "    .dataframe tbody tr th {\n",
       "        vertical-align: top;\n",
       "    }\n",
       "\n",
       "    .dataframe thead th {\n",
       "        text-align: right;\n",
       "    }\n",
       "</style>\n",
       "<table border=\"1\" class=\"dataframe\">\n",
       "  <thead>\n",
       "    <tr style=\"text-align: right;\">\n",
       "      <th></th>\n",
       "      <th>UserId</th>\n",
       "      <th>ProductId</th>\n",
       "      <th>Rating</th>\n",
       "    </tr>\n",
       "  </thead>\n",
       "  <tbody>\n",
       "    <tr>\n",
       "      <th>0</th>\n",
       "      <td>A39HTATAQ9V7YF</td>\n",
       "      <td>0205616461</td>\n",
       "      <td>5.0</td>\n",
       "    </tr>\n",
       "    <tr>\n",
       "      <th>1</th>\n",
       "      <td>A3JM6GV9MNOF9X</td>\n",
       "      <td>0558925278</td>\n",
       "      <td>3.0</td>\n",
       "    </tr>\n",
       "    <tr>\n",
       "      <th>2</th>\n",
       "      <td>A1Z513UWSAAO0F</td>\n",
       "      <td>0558925278</td>\n",
       "      <td>5.0</td>\n",
       "    </tr>\n",
       "    <tr>\n",
       "      <th>3</th>\n",
       "      <td>A1WMRR494NWEWV</td>\n",
       "      <td>0733001998</td>\n",
       "      <td>4.0</td>\n",
       "    </tr>\n",
       "    <tr>\n",
       "      <th>4</th>\n",
       "      <td>A3IAAVS479H7M7</td>\n",
       "      <td>0737104473</td>\n",
       "      <td>1.0</td>\n",
       "    </tr>\n",
       "    <tr>\n",
       "      <th>...</th>\n",
       "      <td>...</td>\n",
       "      <td>...</td>\n",
       "      <td>...</td>\n",
       "    </tr>\n",
       "    <tr>\n",
       "      <th>2023065</th>\n",
       "      <td>A3DEHKPFANB8VA</td>\n",
       "      <td>B00LORWRJA</td>\n",
       "      <td>5.0</td>\n",
       "    </tr>\n",
       "    <tr>\n",
       "      <th>2023066</th>\n",
       "      <td>A3DEHKPFANB8VA</td>\n",
       "      <td>B00LOS7MEE</td>\n",
       "      <td>5.0</td>\n",
       "    </tr>\n",
       "    <tr>\n",
       "      <th>2023067</th>\n",
       "      <td>AG9TJLJUN5OM3</td>\n",
       "      <td>B00LP2YB8E</td>\n",
       "      <td>5.0</td>\n",
       "    </tr>\n",
       "    <tr>\n",
       "      <th>2023068</th>\n",
       "      <td>AYBIB14QOI9PC</td>\n",
       "      <td>B00LPVG6V0</td>\n",
       "      <td>5.0</td>\n",
       "    </tr>\n",
       "    <tr>\n",
       "      <th>2023069</th>\n",
       "      <td>A1PB6OT0OOPKNQ</td>\n",
       "      <td>B00LU0LTOU</td>\n",
       "      <td>5.0</td>\n",
       "    </tr>\n",
       "  </tbody>\n",
       "</table>\n",
       "<p>2023070 rows × 3 columns</p>\n",
       "</div>"
      ],
      "text/plain": [
       "                 UserId   ProductId  Rating\n",
       "0        A39HTATAQ9V7YF  0205616461     5.0\n",
       "1        A3JM6GV9MNOF9X  0558925278     3.0\n",
       "2        A1Z513UWSAAO0F  0558925278     5.0\n",
       "3        A1WMRR494NWEWV  0733001998     4.0\n",
       "4        A3IAAVS479H7M7  0737104473     1.0\n",
       "...                 ...         ...     ...\n",
       "2023065  A3DEHKPFANB8VA  B00LORWRJA     5.0\n",
       "2023066  A3DEHKPFANB8VA  B00LOS7MEE     5.0\n",
       "2023067   AG9TJLJUN5OM3  B00LP2YB8E     5.0\n",
       "2023068   AYBIB14QOI9PC  B00LPVG6V0     5.0\n",
       "2023069  A1PB6OT0OOPKNQ  B00LU0LTOU     5.0\n",
       "\n",
       "[2023070 rows x 3 columns]"
      ]
     },
     "execution_count": 4,
     "metadata": {},
     "output_type": "execute_result"
    }
   ],
   "source": [
    "df"
   ]
  },
  {
   "cell_type": "code",
   "execution_count": 5,
   "id": "09f4e2f7",
   "metadata": {},
   "outputs": [
    {
     "data": {
      "text/html": [
       "<div>\n",
       "<style scoped>\n",
       "    .dataframe tbody tr th:only-of-type {\n",
       "        vertical-align: middle;\n",
       "    }\n",
       "\n",
       "    .dataframe tbody tr th {\n",
       "        vertical-align: top;\n",
       "    }\n",
       "\n",
       "    .dataframe thead th {\n",
       "        text-align: right;\n",
       "    }\n",
       "</style>\n",
       "<table border=\"1\" class=\"dataframe\">\n",
       "  <thead>\n",
       "    <tr style=\"text-align: right;\">\n",
       "      <th></th>\n",
       "      <th>UserId</th>\n",
       "      <th>ProductId</th>\n",
       "      <th>Rating</th>\n",
       "    </tr>\n",
       "  </thead>\n",
       "  <tbody>\n",
       "    <tr>\n",
       "      <th>0</th>\n",
       "      <td>A39HTATAQ9V7YF</td>\n",
       "      <td>0205616461</td>\n",
       "      <td>5.0</td>\n",
       "    </tr>\n",
       "    <tr>\n",
       "      <th>1</th>\n",
       "      <td>A3JM6GV9MNOF9X</td>\n",
       "      <td>0558925278</td>\n",
       "      <td>3.0</td>\n",
       "    </tr>\n",
       "    <tr>\n",
       "      <th>2</th>\n",
       "      <td>A1Z513UWSAAO0F</td>\n",
       "      <td>0558925278</td>\n",
       "      <td>5.0</td>\n",
       "    </tr>\n",
       "    <tr>\n",
       "      <th>3</th>\n",
       "      <td>A1WMRR494NWEWV</td>\n",
       "      <td>0733001998</td>\n",
       "      <td>4.0</td>\n",
       "    </tr>\n",
       "    <tr>\n",
       "      <th>4</th>\n",
       "      <td>A3IAAVS479H7M7</td>\n",
       "      <td>0737104473</td>\n",
       "      <td>1.0</td>\n",
       "    </tr>\n",
       "  </tbody>\n",
       "</table>\n",
       "</div>"
      ],
      "text/plain": [
       "           UserId   ProductId  Rating\n",
       "0  A39HTATAQ9V7YF  0205616461     5.0\n",
       "1  A3JM6GV9MNOF9X  0558925278     3.0\n",
       "2  A1Z513UWSAAO0F  0558925278     5.0\n",
       "3  A1WMRR494NWEWV  0733001998     4.0\n",
       "4  A3IAAVS479H7M7  0737104473     1.0"
      ]
     },
     "execution_count": 5,
     "metadata": {},
     "output_type": "execute_result"
    }
   ],
   "source": [
    "df.head()"
   ]
  },
  {
   "cell_type": "code",
   "execution_count": 6,
   "id": "f0ba868b",
   "metadata": {},
   "outputs": [
    {
     "data": {
      "text/plain": [
       "0"
      ]
     },
     "execution_count": 6,
     "metadata": {},
     "output_type": "execute_result"
    }
   ],
   "source": [
    "# checking if there missng values\n",
    "df.isnull().sum().sum()"
   ]
  },
  {
   "cell_type": "code",
   "execution_count": 7,
   "id": "f930e7c4",
   "metadata": {},
   "outputs": [
    {
     "data": {
      "text/plain": [
       "0"
      ]
     },
     "execution_count": 7,
     "metadata": {},
     "output_type": "execute_result"
    }
   ],
   "source": [
    "# checking if there duplicated values\n",
    "df.duplicated().sum()"
   ]
  },
  {
   "cell_type": "code",
   "execution_count": 8,
   "id": "f340b98c",
   "metadata": {},
   "outputs": [
    {
     "name": "stdout",
     "output_type": "stream",
     "text": [
      "<class 'pandas.core.frame.DataFrame'>\n",
      "RangeIndex: 2023070 entries, 0 to 2023069\n",
      "Data columns (total 3 columns):\n",
      " #   Column     Dtype  \n",
      "---  ------     -----  \n",
      " 0   UserId     object \n",
      " 1   ProductId  object \n",
      " 2   Rating     float64\n",
      "dtypes: float64(1), object(2)\n",
      "memory usage: 46.3+ MB\n"
     ]
    }
   ],
   "source": [
    "df.info()"
   ]
  },
  {
   "cell_type": "code",
   "execution_count": 9,
   "id": "e2acdb07",
   "metadata": {},
   "outputs": [],
   "source": [
    "#Modifing dataset\n",
    "from surprise import Dataset, Reader\n",
    "reader = Reader(rating_scale=(1, 5))\n",
    "surprise_data = Dataset.load_from_df(df[['UserId', 'ProductId', 'Rating']], reader)"
   ]
  },
  {
   "cell_type": "code",
   "execution_count": 10,
   "id": "1c2ff87d",
   "metadata": {},
   "outputs": [],
   "source": [
    "#Splitting dataset\n",
    "from surprise.model_selection import train_test_split\n",
    "trainset, testset = train_test_split(surprise_data, test_size=0.2)\n"
   ]
  },
  {
   "cell_type": "code",
   "execution_count": 11,
   "id": "f3d640b7",
   "metadata": {},
   "outputs": [
    {
     "data": {
      "text/plain": [
       "<surprise.prediction_algorithms.matrix_factorization.SVD at 0x1b064fb9610>"
      ]
     },
     "execution_count": 11,
     "metadata": {},
     "output_type": "execute_result"
    }
   ],
   "source": [
    "#Training model\n",
    "from surprise import SVD\n",
    "model=SVD(reg_all=.001)\n",
    "model.fit(trainset)"
   ]
  },
  {
   "cell_type": "code",
   "execution_count": 12,
   "id": "55adda26",
   "metadata": {},
   "outputs": [],
   "source": [
    "# Predictions\n",
    "predictions = model.test(testset)"
   ]
  },
  {
   "cell_type": "code",
   "execution_count": 13,
   "id": "0880f5c8",
   "metadata": {},
   "outputs": [
    {
     "name": "stdout",
     "output_type": "stream",
     "text": [
      "RMSE: 1.2514\n",
      "RMSE: 1.2513824407633767\n"
     ]
    }
   ],
   "source": [
    "from surprise.accuracy import rmse\n",
    "\n",
    "# Evaluate the model using RMSE\n",
    "accuracy = rmse(predictions)\n",
    "print(f\"RMSE: {accuracy}\")"
   ]
  },
  {
   "cell_type": "code",
   "execution_count": 14,
   "id": "3bd5748b",
   "metadata": {},
   "outputs": [],
   "source": [
    "#Save the model\n",
    "from surprise.dump import dump\n",
    "# Save the model to a file\n",
    "filename = 'SVD_model.pkl'\n",
    "dump(filename, algo=model)"
   ]
  },
  {
   "cell_type": "code",
   "execution_count": 15,
   "id": "e91cbf15",
   "metadata": {},
   "outputs": [
    {
     "data": {
      "text/plain": [
       "3.6544046647146824"
      ]
     },
     "execution_count": 15,
     "metadata": {},
     "output_type": "execute_result"
    }
   ],
   "source": [
    "model.predict(testset[2][0],testset[2][1]).est"
   ]
  },
  {
   "cell_type": "code",
   "execution_count": 16,
   "id": "6607eaa9",
   "metadata": {},
   "outputs": [],
   "source": [
    "#Recommends products\n",
    "def recommend_products(UserId,ProductId):\n",
    "    all_products=df['ProductId'].unique()\n",
    "    recommended_product=[]\n",
    "    for pid in all_products:\n",
    "        recommended_product.append((pid,model.predict(UserId,pid).est))\n",
    "    \n",
    "    recommended_product.sort(key=lambda x:x[1],reverse=True)\n",
    "    return recommended_product[:5]"
   ]
  },
  {
   "cell_type": "code",
   "execution_count": 17,
   "id": "4bcf4d48",
   "metadata": {},
   "outputs": [
    {
     "name": "stdout",
     "output_type": "stream",
     "text": [
      "Recommended product: B002YFN49I , Predicted rate 4.946628448977508\n",
      "Recommended product: B003E1B6UU , Predicted rate 4.917637709387527\n",
      "Recommended product: B009OWSHQE , Predicted rate 4.915196865660542\n",
      "Recommended product: B008DWSJ1O , Predicted rate 4.908958838713593\n",
      "Recommended product: B00466VJ04 , Predicted rate 4.907905715098418\n"
     ]
    }
   ],
   "source": [
    "#Top 5 products recommended\n",
    "for i in recommend_products(testset[2][0],testset[1000][1]):\n",
    "    print(\"Recommended product:\",i[0],\", Predicted rate\",i[1])\n",
    "    "
   ]
  },
  {
   "cell_type": "code",
   "execution_count": 18,
   "id": "3e158a75",
   "metadata": {},
   "outputs": [
    {
     "data": {
      "text/plain": [
       "B001MA0QY2    7533\n",
       "B0009V1YR8    2869\n",
       "B0043OYFKU    2477\n",
       "B0000YUXI0    2143\n",
       "B003V265QW    2088\n",
       "B000ZMBSPE    2041\n",
       "B003BQ6QXK    1918\n",
       "B004OHQR1Q    1885\n",
       "Name: ProductId, dtype: int64"
      ]
     },
     "execution_count": 18,
     "metadata": {},
     "output_type": "execute_result"
    }
   ],
   "source": [
    "df['ProductId'].value_counts()[:8]\n"
   ]
  },
  {
   "cell_type": "code",
   "execution_count": 19,
   "id": "718339f5",
   "metadata": {},
   "outputs": [
    {
     "data": {
      "text/plain": [
       "A3KEZLJ59C1JVH    389\n",
       "A281NPSIMI1C2R    336\n",
       "A3M174IC0VXOS2    326\n",
       "A2V5R832QCSOMX    278\n",
       "A3LJLRIZL38GG3    276\n",
       "ALQGOMOY1F5X9     275\n",
       "AKMEY1BSHSDG7     269\n",
       "A3R9H6OKZHHRJD    259\n",
       "Name: UserId, dtype: int64"
      ]
     },
     "execution_count": 19,
     "metadata": {},
     "output_type": "execute_result"
    }
   ],
   "source": [
    "df['UserId'].value_counts()[:8]\n"
   ]
  },
  {
   "cell_type": "code",
   "execution_count": 20,
   "id": "e84b4219",
   "metadata": {},
   "outputs": [
    {
     "data": {
      "text/plain": [
       "'0733001998'"
      ]
     },
     "execution_count": 20,
     "metadata": {},
     "output_type": "execute_result"
    }
   ],
   "source": [
    "productid=[]\n",
    "for i in df['ProductId'].unique() :\n",
    "    productid.append(i)\n",
    "productid[2]"
   ]
  },
  {
   "cell_type": "code",
   "execution_count": 21,
   "id": "9e60367b",
   "metadata": {},
   "outputs": [
    {
     "data": {
      "text/plain": [
       "'A1Z513UWSAAO0F'"
      ]
     },
     "execution_count": 21,
     "metadata": {},
     "output_type": "execute_result"
    }
   ],
   "source": [
    "userid=[]\n",
    "for i in df['UserId'].unique() :\n",
    "    userid.append(i)\n",
    "userid[2]"
   ]
  },
  {
   "cell_type": "code",
   "execution_count": 23,
   "id": "0acc11c5",
   "metadata": {},
   "outputs": [],
   "source": [
    "# Create a DataFrame from the list\n",
    "df1 = pd.DataFrame(data={'UserId': userid})\n",
    "df2=pd.DataFrame(data={'ProductId': productid})\n",
    "# Define the file name for the CSV file\n",
    "file_name2 = 'product_id.csv'\n",
    "file_name1= 'user_id.csv'\n",
    "# Save the DataFrame to CSV\n",
    "df1.to_csv(file_name1, index=False)\n",
    "df2.to_csv(file_name2, index=False)"
   ]
  },
  {
   "cell_type": "code",
   "execution_count": 24,
   "id": "76c8c34f",
   "metadata": {},
   "outputs": [
    {
     "data": {
      "text/html": [
       "<div>\n",
       "<style scoped>\n",
       "    .dataframe tbody tr th:only-of-type {\n",
       "        vertical-align: middle;\n",
       "    }\n",
       "\n",
       "    .dataframe tbody tr th {\n",
       "        vertical-align: top;\n",
       "    }\n",
       "\n",
       "    .dataframe thead th {\n",
       "        text-align: right;\n",
       "    }\n",
       "</style>\n",
       "<table border=\"1\" class=\"dataframe\">\n",
       "  <thead>\n",
       "    <tr style=\"text-align: right;\">\n",
       "      <th></th>\n",
       "      <th>UserId</th>\n",
       "    </tr>\n",
       "  </thead>\n",
       "  <tbody>\n",
       "    <tr>\n",
       "      <th>0</th>\n",
       "      <td>A39HTATAQ9V7YF</td>\n",
       "    </tr>\n",
       "    <tr>\n",
       "      <th>1</th>\n",
       "      <td>A3JM6GV9MNOF9X</td>\n",
       "    </tr>\n",
       "    <tr>\n",
       "      <th>2</th>\n",
       "      <td>A1Z513UWSAAO0F</td>\n",
       "    </tr>\n",
       "    <tr>\n",
       "      <th>3</th>\n",
       "      <td>A1WMRR494NWEWV</td>\n",
       "    </tr>\n",
       "    <tr>\n",
       "      <th>4</th>\n",
       "      <td>A3IAAVS479H7M7</td>\n",
       "    </tr>\n",
       "    <tr>\n",
       "      <th>...</th>\n",
       "      <td>...</td>\n",
       "    </tr>\n",
       "    <tr>\n",
       "      <th>1210266</th>\n",
       "      <td>ADQ41IJPQW2TN</td>\n",
       "    </tr>\n",
       "    <tr>\n",
       "      <th>1210267</th>\n",
       "      <td>A1SJD7QDROVPCC</td>\n",
       "    </tr>\n",
       "    <tr>\n",
       "      <th>1210268</th>\n",
       "      <td>AFPRQT3V8C1U1</td>\n",
       "    </tr>\n",
       "    <tr>\n",
       "      <th>1210269</th>\n",
       "      <td>A1RYQPQ01T5D5R</td>\n",
       "    </tr>\n",
       "    <tr>\n",
       "      <th>1210270</th>\n",
       "      <td>A3MQDRRGC9070R</td>\n",
       "    </tr>\n",
       "  </tbody>\n",
       "</table>\n",
       "<p>1210271 rows × 1 columns</p>\n",
       "</div>"
      ],
      "text/plain": [
       "                 UserId\n",
       "0        A39HTATAQ9V7YF\n",
       "1        A3JM6GV9MNOF9X\n",
       "2        A1Z513UWSAAO0F\n",
       "3        A1WMRR494NWEWV\n",
       "4        A3IAAVS479H7M7\n",
       "...                 ...\n",
       "1210266   ADQ41IJPQW2TN\n",
       "1210267  A1SJD7QDROVPCC\n",
       "1210268   AFPRQT3V8C1U1\n",
       "1210269  A1RYQPQ01T5D5R\n",
       "1210270  A3MQDRRGC9070R\n",
       "\n",
       "[1210271 rows x 1 columns]"
      ]
     },
     "execution_count": 24,
     "metadata": {},
     "output_type": "execute_result"
    }
   ],
   "source": [
    "pd.read_csv(\"user_id.csv\")"
   ]
  },
  {
   "cell_type": "code",
   "execution_count": 25,
   "id": "9c23da19",
   "metadata": {},
   "outputs": [
    {
     "data": {
      "text/html": [
       "<div>\n",
       "<style scoped>\n",
       "    .dataframe tbody tr th:only-of-type {\n",
       "        vertical-align: middle;\n",
       "    }\n",
       "\n",
       "    .dataframe tbody tr th {\n",
       "        vertical-align: top;\n",
       "    }\n",
       "\n",
       "    .dataframe thead th {\n",
       "        text-align: right;\n",
       "    }\n",
       "</style>\n",
       "<table border=\"1\" class=\"dataframe\">\n",
       "  <thead>\n",
       "    <tr style=\"text-align: right;\">\n",
       "      <th></th>\n",
       "      <th>ProductId</th>\n",
       "    </tr>\n",
       "  </thead>\n",
       "  <tbody>\n",
       "    <tr>\n",
       "      <th>0</th>\n",
       "      <td>0205616461</td>\n",
       "    </tr>\n",
       "    <tr>\n",
       "      <th>1</th>\n",
       "      <td>0558925278</td>\n",
       "    </tr>\n",
       "    <tr>\n",
       "      <th>2</th>\n",
       "      <td>0733001998</td>\n",
       "    </tr>\n",
       "    <tr>\n",
       "      <th>3</th>\n",
       "      <td>0737104473</td>\n",
       "    </tr>\n",
       "    <tr>\n",
       "      <th>4</th>\n",
       "      <td>0762451459</td>\n",
       "    </tr>\n",
       "    <tr>\n",
       "      <th>...</th>\n",
       "      <td>...</td>\n",
       "    </tr>\n",
       "    <tr>\n",
       "      <th>249269</th>\n",
       "      <td>B00LORWRJA</td>\n",
       "    </tr>\n",
       "    <tr>\n",
       "      <th>249270</th>\n",
       "      <td>B00LOS7MEE</td>\n",
       "    </tr>\n",
       "    <tr>\n",
       "      <th>249271</th>\n",
       "      <td>B00LP2YB8E</td>\n",
       "    </tr>\n",
       "    <tr>\n",
       "      <th>249272</th>\n",
       "      <td>B00LPVG6V0</td>\n",
       "    </tr>\n",
       "    <tr>\n",
       "      <th>249273</th>\n",
       "      <td>B00LU0LTOU</td>\n",
       "    </tr>\n",
       "  </tbody>\n",
       "</table>\n",
       "<p>249274 rows × 1 columns</p>\n",
       "</div>"
      ],
      "text/plain": [
       "         ProductId\n",
       "0       0205616461\n",
       "1       0558925278\n",
       "2       0733001998\n",
       "3       0737104473\n",
       "4       0762451459\n",
       "...            ...\n",
       "249269  B00LORWRJA\n",
       "249270  B00LOS7MEE\n",
       "249271  B00LP2YB8E\n",
       "249272  B00LPVG6V0\n",
       "249273  B00LU0LTOU\n",
       "\n",
       "[249274 rows x 1 columns]"
      ]
     },
     "execution_count": 25,
     "metadata": {},
     "output_type": "execute_result"
    }
   ],
   "source": [
    "pd.read_csv(\"product_id.csv\")"
   ]
  },
  {
   "cell_type": "code",
   "execution_count": null,
   "id": "638e1f70",
   "metadata": {},
   "outputs": [],
   "source": []
  }
 ],
 "metadata": {
  "kernelspec": {
   "display_name": "Python 3 (ipykernel)",
   "language": "python",
   "name": "python3"
  },
  "language_info": {
   "codemirror_mode": {
    "name": "ipython",
    "version": 3
   },
   "file_extension": ".py",
   "mimetype": "text/x-python",
   "name": "python",
   "nbconvert_exporter": "python",
   "pygments_lexer": "ipython3",
   "version": "3.11.3"
  }
 },
 "nbformat": 4,
 "nbformat_minor": 5
}
